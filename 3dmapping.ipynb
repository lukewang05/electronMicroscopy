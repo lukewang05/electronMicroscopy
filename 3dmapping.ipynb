{
 "metadata": {
  "language_info": {
   "codemirror_mode": {
    "name": "ipython",
    "version": 3
   },
   "file_extension": ".py",
   "mimetype": "text/x-python",
   "name": "python",
   "nbconvert_exporter": "python",
   "pygments_lexer": "ipython3",
   "version": "3.7.8-final"
  },
  "orig_nbformat": 2,
  "kernelspec": {
   "name": "python3",
   "display_name": "Python 3",
   "language": "python"
  }
 },
 "nbformat": 4,
 "nbformat_minor": 2,
 "cells": [
  {
   "cell_type": "code",
   "execution_count": 5,
   "metadata": {},
   "outputs": [],
   "source": [
    "import numpy as np\n",
    "import matplotlib.pyplot as plt\n",
    "from matplotlib import cm\n",
    "from hyperspy.api import load\n",
    "from pixstem.api import PixelatedSTEM\n",
    "from scipy.signal.signaltools import wiener\n",
    "%matplotlib qt\n",
    "\n",
    "file = load(\"input3.blo\")"
   ]
  },
  {
   "cell_type": "code",
   "execution_count": 6,
   "metadata": {},
   "outputs": [],
   "source": [
    "s = PixelatedSTEM(file.inav[30, 30])\n",
    "image = np.array(s)\n",
    "###############################\n",
    "from skimage.restoration import denoise_nl_means, estimate_sigma\n",
    "\n",
    "sigma_est = np.mean(estimate_sigma(image, ))\n",
    "nlm = denoise_nl_means(image, h=1.15*sigma_est, fast_mode=True, patch_size=2, patch_distance=6, )\n",
    "###############################\n",
    "#newImg = wiener(Img, 5, 3)\n",
    "t = PixelatedSTEM(nlm)\n",
    "\n",
    "template = nlm[49:61, 54:66]\n",
    "\n",
    "\n",
    "template1 = image[49:61, 54:66]\n",
    "\n",
    "\n",
    "#s.plot()"
   ]
  },
  {
   "cell_type": "code",
   "execution_count": 7,
   "metadata": {},
   "outputs": [],
   "source": [
    "fig = plt.figure()\n",
    "ax = fig.gca(projection='3d')\n",
    "\n",
    "x = np.arange(0, len(template[0]))\n",
    "y = np.arange(0, len(template))\n",
    "x, y = np.meshgrid(x, y)\n",
    "\n",
    "surf = ax.plot_surface(x, y, template, cmap=cm.coolwarm)\n",
    "\n",
    "plt.show()"
   ]
  },
  {
   "cell_type": "code",
   "execution_count": 8,
   "metadata": {},
   "outputs": [],
   "source": [
    "fig = plt.figure()\n",
    "ax = fig.gca(projection='3d')\n",
    "\n",
    "x = np.arange(0, len(template1[0]))\n",
    "y = np.arange(0, len(template1))\n",
    "x, y = np.meshgrid(x, y)\n",
    "\n",
    "surf = ax.plot_surface(x, y, template1, cmap=cm.coolwarm)\n",
    "\n",
    "plt.show()"
   ]
  },
  {
   "cell_type": "code",
   "execution_count": null,
   "metadata": {},
   "outputs": [],
   "source": []
  },
  {
   "cell_type": "code",
   "execution_count": null,
   "metadata": {},
   "outputs": [],
   "source": [
    "plt.imshow(template, cmap=cm.gray, interpolation='nearest')\n",
    "plt.show()"
   ]
  },
  {
   "cell_type": "code",
   "execution_count": null,
   "metadata": {},
   "outputs": [],
   "source": []
  }
 ]
}