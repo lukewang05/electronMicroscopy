{
 "cells": [
  {
   "cell_type": "code",
   "execution_count": 1,
   "metadata": {
    "tags": []
   },
   "outputs": [
    {
     "output_type": "stream",
     "name": "stderr",
     "text": "WARNING:hyperspy_gui_traitsui:The module://ipykernel.pylab.backend_inline matplotlib backend is not compatible with the traitsui GUI elements. For more information, read http://hyperspy.readthedocs.io/en/stable/user_guide/getting_started.html#possible-warnings-when-importing-hyperspy.\nWARNING:hyperspy_gui_traitsui:The traitsui GUI elements are not available.\n"
    }
   ],
   "source": [
    "import time\n",
    "startTime = time.time()\n",
    "import numpy as np\n",
    "#import matplotlib.pyplot as plt\n",
    "#import pandas as pd\n",
    "#import pixstem.api as ps\n",
    "from multiprocessing import Array\n",
    "import concurrent.futures\n",
    "import hyperspy.api as hs\n",
    "import ctypes\n",
    "import csv\n",
    "\n",
    "file = hs.load(\"input.blo\")"
   ]
  },
  {
   "cell_type": "code",
   "execution_count": 2,
   "metadata": {},
   "outputs": [],
   "source": [
    "def intensity(point):\n",
    "    s = hs.signals.Signal2D(file.inav[point[0], point[1]])\n",
    "    imarray = np.array(s)\n",
    "    distances[point[1]][point[0]] = imarray[73][71]"
   ]
  },
  {
   "cell_type": "code",
   "execution_count": 3,
   "metadata": {
    "tags": []
   },
   "outputs": [],
   "source": [
    "ROW = 20\n",
    "COL = 20\n",
    "list = []\n",
    "for r in range(ROW):\n",
    "    for c in range(COL):\n",
    "        list.append((r, c))\n",
    "\n",
    "shared_array_base = Array(ctypes.c_double, ROW*COL)\n",
    "distances = np.ctypeslib.as_array(shared_array_base.get_obj())\n",
    "distances = distances.reshape(COL, ROW)\n",
    "\n",
    "with concurrent.futures.ProcessPoolExecutor() as executor:\n",
    "    executor.map(intensity, list)\n",
    "\n",
    "# 10x10\n",
    "# 13.915474891662598\n",
    "# 10.226024150848389\n",
    "\n",
    "# 20x20\n",
    "# 16.93302011489868\n",
    "# 10.767125129699707   "
   ]
  },
  {
   "cell_type": "code",
   "execution_count": 4,
   "metadata": {
    "tags": []
   },
   "outputs": [
    {
     "output_type": "stream",
     "name": "stdout",
     "text": "Total time taken: 16.93302011489868\n"
    }
   ],
   "source": [
    "file = open(\"test.csv\", \"w\")\n",
    "writer = csv.writer(file)\n",
    "for i in distances:\n",
    "    writer.writerow(i)\n",
    "file.close()\n",
    "print(\"Total time taken:\", time.time() - startTime)"
   ]
  },
  {
   "cell_type": "markdown",
   "metadata": {},
   "source": [
    "#### "
   ]
  }
 ],
 "metadata": {
  "kernelspec": {
   "display_name": "Python 3",
   "language": "python",
   "name": "python3"
  },
  "language_info": {
   "codemirror_mode": {
    "name": "ipython",
    "version": 3
   },
   "file_extension": ".py",
   "mimetype": "text/x-python",
   "name": "python",
   "nbconvert_exporter": "python",
   "pygments_lexer": "ipython3",
   "version": "3.7.7-final"
  }
 },
 "nbformat": 4,
 "nbformat_minor": 4
}