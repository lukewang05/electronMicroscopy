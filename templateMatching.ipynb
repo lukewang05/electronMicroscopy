{
 "metadata": {
  "language_info": {
   "codemirror_mode": {
    "name": "ipython",
    "version": 3
   },
   "file_extension": ".py",
   "mimetype": "text/x-python",
   "name": "python",
   "nbconvert_exporter": "python",
   "pygments_lexer": "ipython3",
   "version": "3.7.8-final"
  },
  "orig_nbformat": 2,
  "kernelspec": {
   "name": "python3",
   "display_name": "Python 3"
  }
 },
 "nbformat": 4,
 "nbformat_minor": 2,
 "cells": [
  {
   "cell_type": "code",
   "execution_count": 1,
   "metadata": {},
   "outputs": [
    {
     "output_type": "stream",
     "name": "stderr",
     "text": [
      "WARNING:hyperspy_gui_traitsui:The module://ipykernel.pylab.backend_inline matplotlib backend is not compatible with the traitsui GUI elements. For more information, read http://hyperspy.readthedocs.io/en/stable/user_guide/getting_started.html#possible-warnings-when-importing-hyperspy.\n",
      "WARNING:hyperspy_gui_traitsui:The traitsui GUI elements are not available.\n"
     ]
    }
   ],
   "source": [
    "import numpy as np\n",
    "import matplotlib.pyplot as plt\n",
    "from hyperspy.api import load\n",
    "from pixstem.api import PixelatedSTEM\n",
    "%matplotlib qt\n",
    "\n",
    "from skimage.feature import match_template\n",
    "\n",
    "file = load(\"input2.blo\")\n",
    "s = PixelatedSTEM(file.inav[0, 0])\n",
    "image = np.array(s)"
   ]
  },
  {
   "cell_type": "code",
   "execution_count": 3,
   "metadata": {
    "tags": []
   },
   "outputs": [],
   "source": [
    "def distance(x1, y1, x2, y2):\n",
    "    return np.sqrt(pow(x1 - x2, 2) + pow(y1 - y2, 2))\n",
    "def duplicates():\n",
    "    global list\n",
    "    global result\n",
    "    for i in range(len(list) - 2):\n",
    "        s = list[i]\n",
    "        t = list[i + 1]\n",
    "        if (distance(s[0], s[1], t[0], t[1])) < 5:\n",
    "            if result[s[0]][s[1]] > result[t[0]][t[1]]:\n",
    "                list.pop(i + 1)\n",
    "            else:\n",
    "                list.pop(i)\n",
    "            i -= 1\n",
    "\n",
    "\n",
    "template = image[67:77, 65:76]\n",
    "result = match_template(image, template)\n",
    "ij = np.unravel_index(np.argmax(result), result.shape)\n",
    "x, y = ij[::-1]\n",
    "\n",
    "###############\n",
    "list = []\n",
    "for i in range(len(result)):\n",
    "    for j in range(len(result[i])):\n",
    "        if (result[i][j] > 0.92):\n",
    "            list.append((i, j))\n",
    "###############\n",
    "\n",
    "fig = plt.figure(figsize=(8, 3))\n",
    "ax1 = plt.subplot(1, 3, 1)\n",
    "ax2 = plt.subplot(1, 3, 2)\n",
    "ax3 = plt.subplot(1, 3, 3, sharex=ax2, sharey=ax2)\n",
    "\n",
    "ax1.imshow(template, cmap=plt.cm.gray)\n",
    "ax1.set_axis_off()\n",
    "ax1.set_title('template')\n",
    "\n",
    "ax2.imshow(image, cmap=plt.cm.gray)\n",
    "ax2.set_axis_off()\n",
    "ax2.set_title('image')\n",
    "# highlight matched region\n",
    "hcoin, wcoin = template.shape\n",
    "\n",
    "###############\n",
    "#duplicates()\n",
    "for i in list:\n",
    "    a, b = i\n",
    "    circ = plt.Circle((b + 5, a + 4), 0.25, edgecolor='r', facecolor='none')\n",
    "    ax2.add_patch(circ)\n",
    "\n",
    "###############\n",
    "\n",
    "ax3.imshow(result)\n",
    "ax3.set_axis_off()\n",
    "ax3.set_title('`match_template`\\nresult')\n",
    "# highlight matched region\n",
    "ax3.autoscale(False)\n",
    "ax3.plot(x, y, 'o', markeredgecolor='r', markerfacecolor='none', markersize=10)\n",
    "\n",
    "plt.show()"
   ]
  },
  {
   "cell_type": "code",
   "execution_count": null,
   "metadata": {},
   "outputs": [],
   "source": []
  }
 ]
}