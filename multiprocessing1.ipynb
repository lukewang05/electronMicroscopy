{
 "cells": [
  {
   "cell_type": "code",
   "execution_count": 1,
   "metadata": {},
   "outputs": [
    {
     "name": "stderr",
     "output_type": "stream",
     "text": [
      "WARNING:hyperspy_gui_traitsui:The module://ipykernel.pylab.backend_inline matplotlib backend is not compatible with the traitsui GUI elements. For more information, read http://hyperspy.readthedocs.io/en/stable/user_guide/getting_started.html#possible-warnings-when-importing-hyperspy.\n",
      "WARNING:hyperspy_gui_traitsui:The traitsui GUI elements are not available.\n"
     ]
    }
   ],
   "source": [
    "import time\n",
    "startTime = time.time()\n",
    "import numpy as np\n",
    "import matplotlib.pyplot as plt\n",
    "import pandas as pd\n",
    "import pixstem.api as ps\n",
    "import multiprocessing\n",
    "import hyperspy.api as hs\n",
    "%matplotlib qt\n",
    "\n",
    "file = hs.load(\"input.blo\")"
   ]
  },
  {
   "cell_type": "code",
   "execution_count": 2,
   "metadata": {},
   "outputs": [],
   "source": [
    "def distance(x1, y1, x2, y2):\n",
    "    return np.sqrt(pow(x1 - x2, 2) + pow(y1 - y2, 2))\n",
    "\n",
    "def pos_dist(x1, y1, x2, y2):\n",
    "    if (x2 > x1 and y2 > y1):\n",
    "        return np.sqrt(pow(x1 - x2, 2) + pow(y1 - y2, 2))\n",
    "    else:\n",
    "        return -1.0\n",
    "def findCenter(im, peak):\n",
    "    center = (0,0)\n",
    "    maximum = 0\n",
    "    for (x,y) in np.ndenumerate(peak):\n",
    "        for (a, b) in y:\n",
    "            if (int(a) < len(im) and int(b) < len(im) and im[int(a)][int(b)] > maximum):\n",
    "                maximum = im[int(a)][int(b)]\n",
    "                center = (b, a)\n",
    "    return center\n",
    "def multiprocessing_func(i, j):\n",
    "    s = ps.PixelatedSTEM(hs.signals.Signal2D(file.inav[i, j]))\n",
    "    imarray = np.array(s)\n",
    "    s = s.rotate_diffraction(0,show_progressbar=False)\n",
    "    ############################################################################################################################\n",
    "    st = s.template_match_disk(disk_r=5, lazy_result=False, show_progressbar=False)\n",
    "    peak_array = st.find_peaks(lazy_result=False, show_progressbar=False)\n",
    "    peak_array_com = s.peak_position_refinement_com(peak_array, lazy_result=False, show_progressbar=False)\n",
    "    s_rem = s.subtract_diffraction_background(lazy_result=False, show_progressbar=False)\n",
    "    peak_array_rem_com = s_rem.peak_position_refinement_com(peak_array, lazy_result=False, show_progressbar=False)\n",
    "    ############################################################################################################################\n",
    "    center = findCenter(imarray, peak_array_rem_com)\n",
    "\n",
    "    # finds the specific spot and adding that distance to the array\n",
    "    posDistance = 0\n",
    "        \n",
    "    for (x,y) in np.ndenumerate(peak_array_rem_com):\n",
    "        for (a, b) in y:\n",
    "            distances.append(round(distance(center[0], center[1], b, a), 2))"
   ]
  },
  {
   "cell_type": "code",
   "execution_count": 3,
   "metadata": {},
   "outputs": [
    {
     "name": "stdout",
     "output_type": "stream",
     "text": [
      "0\n",
      "1\n",
      "2\n",
      "3\n",
      "4\n",
      "5\n",
      "6\n",
      "7\n",
      "8\n",
      "9\n",
      "10\n",
      "11\n",
      "12\n",
      "13\n",
      "14\n",
      "15\n",
      "16\n",
      "17\n",
      "18\n",
      "19\n",
      "20\n",
      "21\n",
      "22\n",
      "23\n",
      "24\n",
      "25\n",
      "26\n",
      "27\n",
      "28\n",
      "29\n",
      "30\n",
      "31\n",
      "32\n",
      "33\n",
      "34\n",
      "35\n",
      "36\n",
      "37\n",
      "38\n",
      "39\n",
      "40\n",
      "41\n",
      "42\n",
      "43\n",
      "44\n",
      "45\n",
      "46\n",
      "47\n",
      "48\n",
      "49\n"
     ]
    }
   ],
   "source": [
    "ROW = 10\n",
    "COL = 10\n",
    "\n",
    "manager = multiprocessing.Manager()\n",
    "distances = manager.list()\n",
    "\n",
    "for i in range(ROW):\n",
    "    print(i)\n",
    "    processes = []\n",
    "    for j in range(COL):\n",
    "        p = multiprocessing.Process(target=multiprocessing_func, args=(i, j,))\n",
    "        processes.append(p)\n",
    "        p.start()\n",
    "\n",
    "    for process in processes:\n",
    "        process.join()"
   ]
  },
  {
   "cell_type": "code",
   "execution_count": 4,
   "metadata": {},
   "outputs": [],
   "source": [
    "def count(x, i):\n",
    "    ctr = 0\n",
    "    for x in distances:\n",
    "        if i <= x < i + 0.01: # change the 0.01 to whatever number you use above in the first comment\n",
    "            ctr += 1\n",
    "    return ctr"
   ]
  },
  {
   "cell_type": "code",
   "execution_count": 6,
   "metadata": {},
   "outputs": [
    {
     "ename": "NameError",
     "evalue": "name 'cube' is not defined",
     "output_type": "error",
     "traceback": [
      "\u001b[0;31m---------------------------------------------------------------------------\u001b[0m",
      "\u001b[0;31mNameError\u001b[0m                                 Traceback (most recent call last)",
      "\u001b[0;32m<ipython-input-6-cad5662869b9>\u001b[0m in \u001b[0;36m<module>\u001b[0;34m\u001b[0m\n\u001b[1;32m      6\u001b[0m \u001b[0;34m\u001b[0m\u001b[0m\n\u001b[1;32m      7\u001b[0m \u001b[0mpool\u001b[0m \u001b[0;34m=\u001b[0m \u001b[0mmultiprocessing\u001b[0m\u001b[0;34m.\u001b[0m\u001b[0mPool\u001b[0m\u001b[0;34m(\u001b[0m\u001b[0;34m)\u001b[0m\u001b[0;34m\u001b[0m\u001b[0;34m\u001b[0m\u001b[0m\n\u001b[0;32m----> 8\u001b[0;31m \u001b[0mcounts\u001b[0m \u001b[0;34m=\u001b[0m \u001b[0;34m[\u001b[0m\u001b[0mpool\u001b[0m\u001b[0;34m.\u001b[0m\u001b[0mapply\u001b[0m\u001b[0;34m(\u001b[0m\u001b[0mcube\u001b[0m\u001b[0;34m,\u001b[0m \u001b[0margs\u001b[0m\u001b[0;34m=\u001b[0m\u001b[0;34m(\u001b[0m\u001b[0mx\u001b[0m\u001b[0;34m,\u001b[0m \u001b[0;36m0.01\u001b[0m\u001b[0;34m,\u001b[0m\u001b[0;34m)\u001b[0m\u001b[0;34m)\u001b[0m \u001b[0;32mfor\u001b[0m \u001b[0mx\u001b[0m \u001b[0;32min\u001b[0m \u001b[0mx_pos\u001b[0m\u001b[0;34m]\u001b[0m \u001b[0;31m# has the count of each value in the same order as x_pos\u001b[0m\u001b[0;34m\u001b[0m\u001b[0;34m\u001b[0m\u001b[0m\n\u001b[0m\u001b[1;32m      9\u001b[0m \u001b[0;34m\u001b[0m\u001b[0m\n\u001b[1;32m     10\u001b[0m \u001b[0;34m\u001b[0m\u001b[0m\n",
      "\u001b[0;32m<ipython-input-6-cad5662869b9>\u001b[0m in \u001b[0;36m<listcomp>\u001b[0;34m(.0)\u001b[0m\n\u001b[1;32m      6\u001b[0m \u001b[0;34m\u001b[0m\u001b[0m\n\u001b[1;32m      7\u001b[0m \u001b[0mpool\u001b[0m \u001b[0;34m=\u001b[0m \u001b[0mmultiprocessing\u001b[0m\u001b[0;34m.\u001b[0m\u001b[0mPool\u001b[0m\u001b[0;34m(\u001b[0m\u001b[0;34m)\u001b[0m\u001b[0;34m\u001b[0m\u001b[0;34m\u001b[0m\u001b[0m\n\u001b[0;32m----> 8\u001b[0;31m \u001b[0mcounts\u001b[0m \u001b[0;34m=\u001b[0m \u001b[0;34m[\u001b[0m\u001b[0mpool\u001b[0m\u001b[0;34m.\u001b[0m\u001b[0mapply\u001b[0m\u001b[0;34m(\u001b[0m\u001b[0mcube\u001b[0m\u001b[0;34m,\u001b[0m \u001b[0margs\u001b[0m\u001b[0;34m=\u001b[0m\u001b[0;34m(\u001b[0m\u001b[0mx\u001b[0m\u001b[0;34m,\u001b[0m \u001b[0;36m0.01\u001b[0m\u001b[0;34m,\u001b[0m\u001b[0;34m)\u001b[0m\u001b[0;34m)\u001b[0m \u001b[0;32mfor\u001b[0m \u001b[0mx\u001b[0m \u001b[0;32min\u001b[0m \u001b[0mx_pos\u001b[0m\u001b[0;34m]\u001b[0m \u001b[0;31m# has the count of each value in the same order as x_pos\u001b[0m\u001b[0;34m\u001b[0m\u001b[0;34m\u001b[0m\u001b[0m\n\u001b[0m\u001b[1;32m      9\u001b[0m \u001b[0;34m\u001b[0m\u001b[0m\n\u001b[1;32m     10\u001b[0m \u001b[0;34m\u001b[0m\u001b[0m\n",
      "\u001b[0;31mNameError\u001b[0m: name 'cube' is not defined"
     ]
    }
   ],
   "source": [
    "INTERVAL = 0.01\n",
    "\n",
    "distances.sort()\n",
    "x_pos = np.arange(np.min(distances), np.max(distances), INTERVAL) # this 0.01 is the distance between each x-axis label. So for example it goes 1.0, 1.01, 1.02 1.03...\n",
    "x_pos = [round(num, 2) for num in x_pos]\n",
    "y_pos = np.arange(len(x_pos))\n",
    "\n",
    "pool = multiprocessing.Pool()\n",
    "counts = [pool.apply(count, args=(x, INTERVAL,)) for x in x_pos] # has the count of each value in the same order as x_pos\n",
    "\n",
    "\n",
    "plt.bar(y_pos, counts, align='center', alpha=0.95) # creates the bar plot\n",
    "plt.xticks(y_pos, x_pos, fontsize = 5)\n",
    "plt.xlabel('Distance from center peek', fontsize = 5)\n",
    "plt.ylabel('Counts', fontsize = 5)\n",
    "plt.title('Distance Counts', fontsize = 5)\n",
    "\n",
    "ax = plt.gca()\n",
    "plt.setp(ax.get_xticklabels(), rotation=90)\n",
    "ax.tick_params(axis='x', which='major', labelsize=5)\n",
    "ax.tick_params(axis='y', which='major', labelsize=5)\n",
    "\n",
    "[l.set_visible(False) for (i,l) in enumerate(ax.xaxis.get_ticklabels()) if i % 2 != 0] \n",
    "# The '2' is the every nth number of labels its shows on the x-axis. So rn is shows every 2nd label. \n",
    "\n",
    "plt.gcf().subplots_adjust(bottom = 0.23)\n",
    "plt.rcParams[\"figure.dpi\"] = 500\n",
    "print(\"Total time taken:\", time.time() - startTime)\n",
    "plt.show()"
   ]
  },
  {
   "cell_type": "code",
   "execution_count": null,
   "metadata": {},
   "outputs": [],
   "source": []
  }
 ],
 "metadata": {
  "kernelspec": {
   "display_name": "Python 3",
   "language": "python",
   "name": "python3"
  },
  "language_info": {
   "codemirror_mode": {
    "name": "ipython",
    "version": 3
   },
   "file_extension": ".py",
   "mimetype": "text/x-python",
   "name": "python",
   "nbconvert_exporter": "python",
   "pygments_lexer": "ipython3",
   "version": "3.8.3"
  }
 },
 "nbformat": 4,
 "nbformat_minor": 4
}
