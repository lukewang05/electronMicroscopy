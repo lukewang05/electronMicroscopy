{
 "metadata": {
  "language_info": {
   "codemirror_mode": {
    "name": "ipython",
    "version": 3
   },
   "file_extension": ".py",
   "mimetype": "text/x-python",
   "name": "python",
   "nbconvert_exporter": "python",
   "pygments_lexer": "ipython3",
   "version": "3.7.7-final"
  },
  "orig_nbformat": 2,
  "kernelspec": {
   "name": "python3",
   "display_name": "Python 3"
  }
 },
 "nbformat": 4,
 "nbformat_minor": 2,
 "cells": [
  {
   "cell_type": "code",
   "execution_count": 1,
   "metadata": {
    "tags": []
   },
   "outputs": [
    {
     "output_type": "stream",
     "name": "stderr",
     "text": "WARNING:hyperspy_gui_traitsui:The module://ipykernel.pylab.backend_inline matplotlib backend is not compatible with the traitsui GUI elements. For more information, read http://hyperspy.readthedocs.io/en/stable/user_guide/getting_started.html#possible-warnings-when-importing-hyperspy.\nWARNING:hyperspy_gui_traitsui:The traitsui GUI elements are not available.\n"
    }
   ],
   "source": [
    "from tkinter import *\n",
    "from PIL import Image, ImageTk\n",
    "import pixstem.api as ps\n",
    "import hyperspy.api as hs\n",
    "from os import remove\n",
    "%matplotlib qt\n",
    "\n",
    "h = hs.load(\"input1.blo\")"
   ]
  },
  {
   "cell_type": "code",
   "execution_count": 2,
   "metadata": {
    "tags": []
   },
   "outputs": [],
   "source": [
    "s = ps.PixelatedSTEM(hs.signals.Signal2D(h.inav[0, 0]))\n",
    "#s.plot(colorbar=False, scalebar=False)\n",
    "s.save(\"temp.png\")\n",
    "\n",
    "img = Image.open(\"temp.png\")\n",
    "img = img.resize((400,400), Image.ANTIALIAS)\n",
    "img.save('temp.png')"
   ]
  },
  {
   "cell_type": "code",
   "execution_count": 3,
   "metadata": {
    "tags": []
   },
   "outputs": [],
   "source": [
    "def Mousecoords(event):\n",
    "    pointxy = (int(event.x * 144 / 400), int(event.y * 144 / 400)) # get the mouse position from event\n",
    "    print(pointxy)\n",
    "    #canvas.coords(cimg, pointxy) # move the image to mouse postion\n",
    "\n",
    "root = Tk()\n",
    "#img = ImageTk.PhotoImage(file='outputImages/200x200heatMap.png')\n",
    "canvas = Canvas(width=400, height=400)\n",
    "#cimg = canvas.create_image(200, 100, image=img)\n",
    "canvas.pack()\n",
    "#img = ImageTk.PhotoImage(Image.open(\"diffractionPattern.png\"))\n",
    "img = ImageTk.PhotoImage(Image.open(\"temp.png\"))\n",
    "canvas.create_image(0, 0, anchor=NW, image=img)\n",
    "canvas.bind('<Button-1>', Mousecoords) # track mouse movement\n",
    "root.mainloop()\n",
    "remove(\"temp.png\")"
   ]
  },
  {
   "cell_type": "code",
   "execution_count": null,
   "metadata": {},
   "outputs": [],
   "source": []
  }
 ]
}